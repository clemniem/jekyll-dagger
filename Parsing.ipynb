{
 "cells": [
  {
   "cell_type": "code",
   "execution_count": 13,
   "metadata": {},
   "outputs": [],
   "source": []
  },
  {
   "cell_type": "code",
   "execution_count": 112,
   "metadata": {},
   "outputs": [
    {
     "name": "stdout",
     "output_type": "stream",
     "text": [
      "# h1 jekyll-dagger\n",
      "\n",
      "['### h3 Setup jekyll-dagger\\n', '', '\\n', 'Here are the steps listed how to setup jekyll-dagger\\n', '\\n', '```\\n', 'pip install TODO\\n', '```\\n', '\\n']\n",
      "['pip']\n",
      "# h1 TestPage\n",
      "\n",
      "['### h3 Another Section\\n', '', '\\n', '#### h4 Deeper Leveling is not affected\\n', '\\n', 'Just check it out.\\n', '\\n']\n",
      "['tag1', 'tag2', 'tag3']\n",
      "['### h3 The only test section\\n', '', '\\n', 'Here is another test section should have tags: `TestPage` `test` `testTag1` `testTag2`\\n', '\\n']\n",
      "['test', 'testTag1', 'testTag2']\n"
     ]
    }
   ],
   "source": [
    "H1 = '# '\n",
    "H2 = '## '\n",
    "H3 = '### '\n",
    "COMMENT = '> '\n",
    "is_section = False\n",
    "wasH1 = False\n",
    "wasH3 = False\n",
    "section_tmp = list()\n",
    "pageTags = list()\n",
    "sectionTags = list()\n",
    "section_mode = \"w\"\n",
    "\n",
    "with open(\"./test.md\",'r') as mdFile:\n",
    "    for line in mdFile:\n",
    "        if(wasH1):\n",
    "            if(line.startswith(COMMENT)):\n",
    "                # save page tags\n",
    "                for tag in line[2:-1:].split(\" \"):\n",
    "                    pageTags.append(tag)\n",
    "                    line = \"\"\n",
    "            wasH1 = False\n",
    "            \n",
    "        if(wasH3):\n",
    "            if(line.startswith(COMMENT)):\n",
    "                # save page tags\n",
    "                for tag in line[2:-1:].split(\" \"):\n",
    "                    sectionTags.append(tag)\n",
    "                line = \"\"\n",
    "            wasH3 = False\n",
    "            \n",
    "        if(line.startswith(H1)):\n",
    "            print(line)\n",
    "            # new Page starts\n",
    "            if(section_tmp):\n",
    "                # write tmp out\n",
    "                print(section_tmp)\n",
    "                print(sectionTags)\n",
    "                # reset values\n",
    "                wasH1 = True\n",
    "                section_tmp = list()\n",
    "                pageTags = list()\n",
    "                is_section = False\n",
    "            # start new page\n",
    "            pageTags.append(line[2::].strip())\n",
    "            wasH1 = True\n",
    "        elif(line.startswith(H3)):\n",
    "            # new section starts\n",
    "            if(section_tmp):\n",
    "                #write tmp to output\n",
    "                print(section_tmp)\n",
    "                print(sectionTags)\n",
    "                section_tmp = list()\n",
    "            sectionTags = list()\n",
    "            wasH3 = True\n",
    "            is_section = True\n",
    "            section_tmp.append(line)\n",
    "        elif(is_section):\n",
    "            # add line to section\n",
    "            section_tmp.append(line)\n",
    "    if(section_tmp):\n",
    "        print(section_tmp)\n",
    "        print(sectionTags)\n",
    "            \n",
    "        \n",
    "        \n",
    "        "
   ]
  },
  {
   "cell_type": "code",
   "execution_count": 52,
   "metadata": {},
   "outputs": [
    {
     "data": {
      "text/plain": [
       "[Setup jekyll-dagger, Another Section]"
      ]
     },
     "execution_count": 52,
     "metadata": {},
     "output_type": "execute_result"
    }
   ],
   "source": [
    "toc.parseBranches(toc.h1.h2)"
   ]
  },
  {
   "cell_type": "code",
   "execution_count": 107,
   "metadata": {},
   "outputs": [
    {
     "data": {
      "text/plain": [
       "['pop']"
      ]
     },
     "execution_count": 107,
     "metadata": {},
     "output_type": "execute_result"
    }
   ],
   "source": [
    "line = \"> pop\\n\"\n",
    "line[2:-1:].split(\" \")"
   ]
  },
  {
   "cell_type": "code",
   "execution_count": 11,
   "metadata": {},
   "outputs": [
    {
     "data": {
      "text/plain": [
       "<bound method TreeOfContents.parseBranches of >"
      ]
     },
     "execution_count": 11,
     "metadata": {},
     "output_type": "execute_result"
    }
   ],
   "source": [
    "toc.parseBranches"
   ]
  },
  {
   "cell_type": "code",
   "execution_count": 9,
   "metadata": {},
   "outputs": [
    {
     "data": {
      "text/plain": [
       "1"
      ]
     },
     "execution_count": 9,
     "metadata": {},
     "output_type": "execute_result"
    }
   ],
   "source": [
    "toc.depth"
   ]
  },
  {
   "cell_type": "code",
   "execution_count": 10,
   "metadata": {},
   "outputs": [
    {
     "data": {
      "text/plain": [
       "<list_iterator at 0x10d229eb8>"
      ]
     },
     "execution_count": 10,
     "metadata": {},
     "output_type": "execute_result"
    }
   ],
   "source": [
    "toc.descendants"
   ]
  },
  {
   "cell_type": "code",
   "execution_count": null,
   "metadata": {},
   "outputs": [],
   "source": []
  }
 ],
 "metadata": {
  "kernelspec": {
   "display_name": "daggerenv (Python 3)",
   "language": "python",
   "name": "daggerenv"
  },
  "language_info": {
   "codemirror_mode": {
    "name": "ipython",
    "version": 3
   },
   "file_extension": ".py",
   "mimetype": "text/x-python",
   "name": "python",
   "nbconvert_exporter": "python",
   "pygments_lexer": "ipython3",
   "version": "3.6.4"
  }
 },
 "nbformat": 4,
 "nbformat_minor": 2
}
