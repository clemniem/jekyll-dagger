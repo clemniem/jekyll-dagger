{
 "cells": [
  {
   "cell_type": "code",
   "execution_count": 1,
   "metadata": {},
   "outputs": [],
   "source": [
    "from datetime import datetime"
   ]
  },
  {
   "cell_type": "code",
   "execution_count": 2,
   "metadata": {},
   "outputs": [],
   "source": [
    "import os"
   ]
  },
  {
   "cell_type": "code",
   "execution_count": 23,
   "metadata": {},
   "outputs": [
    {
     "name": "stdout",
     "output_type": "stream",
     "text": [
      "False\n",
      "False\n",
      "False\n",
      "False\n",
      "False\n",
      "False\n",
      "False\n",
      "False\n",
      "False\n",
      "False\n",
      "True\n",
      "True\n",
      "True\n",
      "True\n",
      "False\n",
      "False\n",
      "False\n",
      "['### h3 Setup jekyll-dagger\\n', '\\n', 'Here are the steps listed how to setup jekyll-dagger\\n', '\\n', '```sh\\n', '# activate venv\\n', 'cd jekyll-dagger\\n', 'pip install -e .[test]\\n', '```\\n', '\\n']\n",
      "['pip']\n",
      "2018-07-05-h3-Setup-jekyll-dagger.md\n",
      "/Users/clem/Downloads/Archiv/2018-07-05-h3-Setup-jekyll-dagger.md\n",
      "False\n",
      "False\n",
      "False\n",
      "False\n",
      "False\n",
      "False\n",
      "False\n",
      "['### h3 Another Section\\n', '\\n', '#### h4 Deeper Leveling is not affected\\n', '\\n', 'Just check it out.\\n', '\\n']\n",
      "['tag1', 'tag2', 'tag3']\n",
      "2018-07-05-h3-Another-Section.md\n",
      "/Users/clem/Downloads/Archiv/2018-07-05-h3-Another-Section.md\n",
      "False\n",
      "False\n",
      "False\n",
      "False\n",
      "False\n",
      "False\n",
      "False\n",
      "False\n",
      "False\n",
      "2018-07-05-h3-The-only-test-section.md\n",
      "/Users/clem/Downloads/Archiv/2018-07-05-h3-The-only-test-section.md\n"
     ]
    }
   ],
   "source": [
    "H1 = '# '\n",
    "H2 = '## '\n",
    "H3 = '### '\n",
    "COMMENT = '> '\n",
    "OUTPUT_DIR = \"/Users/clem/Downloads/Archiv\"\n",
    "\n",
    "# define default structure\n",
    "DEFAULT_HEADER = \"\"\"---\n",
    "layout: post\n",
    "title: {title}\n",
    "tags: {tags}\n",
    "category: blog\n",
    "---\n",
    "\"\"\"\n",
    "\n",
    "\n",
    "def file_len(fname):\n",
    "    with open(fname) as f:\n",
    "        for i, l in enumerate(f):\n",
    "            pass\n",
    "    return i + 1\n",
    "\n",
    "def writeSection(title, lines, pTags, sTags):\n",
    "    post_filename = \"{}-{}.md\".format(datetime.today().date(), title.replace(\" \",\"-\"))\n",
    "    print(post_filename)\n",
    "    postPath = os.path.join(OUTPUT_DIR,post_filename)\n",
    "    print(postPath)\n",
    "    tagString = ' '.join(set(pTags + sTags))\n",
    "    \n",
    "    # check if file Exists\n",
    "#     if(os.path.isfile(filePath)):\n",
    "#         if(file_len(filePath) >= len(lines)):\n",
    "#             print(\"early return\")\n",
    "#             return\n",
    "\n",
    "    with open(postPath, 'w') as post:\n",
    "        post.write(DEFAULT_HEADER.format(title=title, tags=tagString))\n",
    "        post.writelines(lines[1:])\n",
    "        \n",
    "        \n",
    "def parseFile(filePath):\n",
    "    isComment = False\n",
    "    wasH1 = False\n",
    "    wasH3 = False\n",
    "    section_tmp = list()\n",
    "    pageTags = list()\n",
    "    sectionTags = list()\n",
    "    section_mode = \"w\"\n",
    "    section_title = \"\"\n",
    "    is_section = False\n",
    "\n",
    "    with open(filePath,'r') as mdFile:\n",
    "        for line in mdFile:\n",
    "            # TODO check for indented Comment Sections\n",
    "            if(line.startswith('```')):\n",
    "                isComment = not isComment\n",
    "            \n",
    "            if(isComment):\n",
    "                section_tmp.append(line)\n",
    "                continue\n",
    "            \n",
    "            if(wasH1):\n",
    "                wasH1 = False\n",
    "                if(line.startswith(COMMENT)):\n",
    "                    # save page tags\n",
    "                    for tag in line[len(COMMENT):-1:].split(\" \"):\n",
    "                        pageTags.append(tag)\n",
    "                    continue\n",
    "\n",
    "            if(wasH3):\n",
    "                wasH3 = False\n",
    "                if(line.startswith(COMMENT)):\n",
    "                    # save section tags\n",
    "                    for tag in line[len(COMMENT):-1:].split(\" \"):\n",
    "                        sectionTags.append(tag)\n",
    "                    continue\n",
    "            \n",
    "            if(line.startswith(H1)):\n",
    "                # new Page starts\n",
    "                if(section_tmp):\n",
    "                    # write tmp out\n",
    "                    print(section_tmp)\n",
    "                    print(sectionTags)\n",
    "                    writeSection(sectionTitle, section_tmp, pageTags, sectionTags)\n",
    "                    # reset values\n",
    "                    wasH1 = True\n",
    "                    section_tmp = list()\n",
    "                    sectionTags = list()\n",
    "                    pageTags = list()\n",
    "                    is_section = False\n",
    "                # start new page\n",
    "                pageTags.append(line[2::].strip())\n",
    "                wasH1 = True\n",
    "            elif(line.startswith(H3)):\n",
    "                # new section starts\n",
    "                if(section_tmp):\n",
    "                    #write tmp to output\n",
    "                    print(section_tmp)\n",
    "                    print(sectionTags)\n",
    "                    writeSection(sectionTitle, section_tmp, pageTags, sectionTags)\n",
    "                    section_tmp = list()\n",
    "                    sectionTags = list()\n",
    "                    sectionTitle = \"\"\n",
    "                wasH3 = True\n",
    "                is_section = True\n",
    "                sectionTitle = line[len(H3):-1]\n",
    "                section_tmp.append(line)\n",
    "            elif(is_section):\n",
    "                # add line to section\n",
    "                section_tmp.append(line)\n",
    "    # write last section if there is one\n",
    "    if(section_tmp):\n",
    "        writeSection(sectionTitle, section_tmp, pageTags, sectionTags)    \n",
    "        \n",
    "        \n",
    "parseFile(\"./test.md\")"
   ]
  },
  {
   "cell_type": "code",
   "execution_count": null,
   "metadata": {},
   "outputs": [],
   "source": [
    "today = \n",
    "sectionTitle = \n",
    "\n",
    "print(today)"
   ]
  },
  {
   "cell_type": "code",
   "execution_count": null,
   "metadata": {},
   "outputs": [],
   "source": [
    "line = \"> pop\\n\"\n",
    "line[2:-1:].split(\" \")"
   ]
  },
  {
   "cell_type": "code",
   "execution_count": null,
   "metadata": {},
   "outputs": [],
   "source": [
    "line = \"### This is the Title\"\n",
    "sectionTitle = line[len(H3):].replace(\" \",\"-\")\n",
    "print(sectionTitle)"
   ]
  },
  {
   "cell_type": "code",
   "execution_count": null,
   "metadata": {},
   "outputs": [],
   "source": [
    "l = [1,2,3]"
   ]
  },
  {
   "cell_type": "code",
   "execution_count": null,
   "metadata": {},
   "outputs": [],
   "source": [
    "l + [4,5,6]"
   ]
  },
  {
   "cell_type": "code",
   "execution_count": null,
   "metadata": {},
   "outputs": [],
   "source": [
    "' '.join(set([\"Tag\",\"tag2\"] + [\"tag3\",\"tag4\"]))"
   ]
  },
  {
   "cell_type": "code",
   "execution_count": 18,
   "metadata": {},
   "outputs": [
    {
     "data": {
      "text/plain": [
       "True"
      ]
     },
     "execution_count": 18,
     "metadata": {},
     "output_type": "execute_result"
    }
   ],
   "source": [
    "\"```s asdasd asd\".startswith(\"```\")"
   ]
  },
  {
   "cell_type": "code",
   "execution_count": null,
   "metadata": {},
   "outputs": [],
   "source": []
  }
 ],
 "metadata": {
  "kernelspec": {
   "display_name": "daggerenv (Python 3)",
   "language": "python",
   "name": "daggerenv"
  },
  "language_info": {
   "codemirror_mode": {
    "name": "ipython",
    "version": 3
   },
   "file_extension": ".py",
   "mimetype": "text/x-python",
   "name": "python",
   "nbconvert_exporter": "python",
   "pygments_lexer": "ipython3",
   "version": "3.6.4"
  }
 },
 "nbformat": 4,
 "nbformat_minor": 2
}
